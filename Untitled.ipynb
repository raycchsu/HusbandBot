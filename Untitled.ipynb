{
 "cells": [
  {
   "cell_type": "code",
   "execution_count": 4,
   "metadata": {},
   "outputs": [],
   "source": [
    "import requests\n",
    "import pandas as pd\n",
    "import xml.etree.ElementTree as etree\n",
    "\n",
    "class GetDataSet:\n",
    "    url = ''\n",
    "\n",
    "    def __init__(self, url):\n",
    "        self.url = url\n",
    "\n",
    "    def get_oil_price(self):\n",
    "        root = etree.fromstring(requests.get(self.url).text)\n",
    "        columns = [\"型別名稱\", \"產品編號\", \"產品名稱\", \"包裝\", \"銷售對象\", \"交貨地點\", \"計價單位\", \"參考牌價\", \"營業稅\", \"貨物稅\", \"牌價生效時間\", \"備註\"]\n",
    "        datatframe = pd.DataFrame(columns = columns)\n",
    "\n",
    "        for node in root:\n",
    "            typeName = node.find(\"型別名稱\").text if node is not None else None\n",
    "            idNum = node.find(\"產品編號\").text if node is not None else None\n",
    "            prodName = node.find(\"產品名稱\").text if node is not None else None\n",
    "            package = node.find(\"包裝\").text if node is not None else None\n",
    "            target = node.find(\"銷售對象\").text if node is not None else None\n",
    "            local = node.find(\"交貨地點\").text if node is not None else None\n",
    "            unit = node.find(\"計價單位\").text if node is not None else None\n",
    "            ref_money = node.find(\"參考牌價\").text if node is not None else None\n",
    "            tax_1 = node.find(\"營業稅\").text if node is not None else None\n",
    "            tax_2 = node.find(\"貨物稅\").text if node is not None else None\n",
    "            time = node.find(\"牌價生效時間\").text if node is not None else None\n",
    "            note= node.find(\"備註\").text if node is not None else None\n",
    "            datatframe = datatframe.append(pd.Series([typeName, idNum, prodName, package, target, local,unit,ref_money,tax_1, tax_2, time, note], index = columns), ignore_index = True)\n",
    "        return datatframe\n"
   ]
  },
  {
   "cell_type": "code",
   "execution_count": 5,
   "metadata": {},
   "outputs": [
    {
     "ename": "TypeError",
     "evalue": "'numpy.ndarray' object is not callable",
     "output_type": "error",
     "traceback": [
      "\u001b[0;31m---------------------------------------------------------------------------\u001b[0m",
      "\u001b[0;31mTypeError\u001b[0m                                 Traceback (most recent call last)",
      "\u001b[0;32m<ipython-input-5-f38623700d53>\u001b[0m in \u001b[0;36m<module>\u001b[0;34m()\u001b[0m\n\u001b[1;32m      1\u001b[0m \u001b[0mtest\u001b[0m \u001b[0;34m=\u001b[0m \u001b[0mGetDataSet\u001b[0m\u001b[0;34m(\u001b[0m\u001b[0;34m'https://vipmember.tmtd.cpc.com.tw/opendata/ListPriceWebService.asmx/getCPCMainProdListPrice_XML'\u001b[0m\u001b[0;34m)\u001b[0m\u001b[0;34m\u001b[0m\u001b[0m\n\u001b[0;32m----> 2\u001b[0;31m \u001b[0mtest\u001b[0m\u001b[0;34m.\u001b[0m\u001b[0mget_oil_price\u001b[0m\u001b[0;34m(\u001b[0m\u001b[0;34m)\u001b[0m\u001b[0;34m.\u001b[0m\u001b[0mvalues\u001b[0m\u001b[0;34m(\u001b[0m\u001b[0;34m)\u001b[0m\u001b[0;34m\u001b[0m\u001b[0m\n\u001b[0m",
      "\u001b[0;31mTypeError\u001b[0m: 'numpy.ndarray' object is not callable"
     ]
    }
   ],
   "source": [
    "test = GetDataSet('https://vipmember.tmtd.cpc.com.tw/opendata/ListPriceWebService.asmx/getCPCMainProdListPrice_XML')\n",
    "test.get_oil_price().values()"
   ]
  },
  {
   "cell_type": "code",
   "execution_count": null,
   "metadata": {},
   "outputs": [],
   "source": []
  }
 ],
 "metadata": {
  "kernelspec": {
   "display_name": "Python 3",
   "language": "python",
   "name": "python3"
  },
  "language_info": {
   "codemirror_mode": {
    "name": "ipython",
    "version": 3
   },
   "file_extension": ".py",
   "mimetype": "text/x-python",
   "name": "python",
   "nbconvert_exporter": "python",
   "pygments_lexer": "ipython3",
   "version": "3.6.5"
  }
 },
 "nbformat": 4,
 "nbformat_minor": 2
}
