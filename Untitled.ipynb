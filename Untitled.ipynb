{
 "cells": [
  {
   "cell_type": "code",
   "execution_count": 4,
   "metadata": {},
   "outputs": [],
   "source": [
    "import requests\n",
    "import pandas as pd\n",
    "import xml.etree.ElementTree as etree\n",
    "\n",
    "class GetDataSet:\n",
    "    url = ''\n",
    "\n",
    "    def __init__(self, url):\n",
    "        self.url = url\n",
    "\n",
    "    def get_oil_price(self):\n",
    "        root = etree.fromstring(requests.get(self.url).text)\n",
    "        columns = [\"型別名稱\", \"產品編號\", \"產品名稱\", \"包裝\", \"銷售對象\", \"交貨地點\", \"計價單位\", \"參考牌價\", \"營業稅\", \"貨物稅\", \"牌價生效時間\", \"備註\"]\n",
    "        datatframe = pd.DataFrame(columns = columns)\n",
    "\n",
    "        for node in root:\n",
    "            typeName = node.find(\"型別名稱\").text if node is not None else None\n",
    "            idNum = node.find(\"產品編號\").text if node is not None else None\n",
    "            prodName = node.find(\"產品名稱\").text if node is not None else None\n",
    "            package = node.find(\"包裝\").text if node is not None else None\n",
    "            target = node.find(\"銷售對象\").text if node is not None else None\n",
    "            local = node.find(\"交貨地點\").text if node is not None else None\n",
    "            unit = node.find(\"計價單位\").text if node is not None else None\n",
    "            ref_money = node.find(\"參考牌價\").text if node is not None else None\n",
    "            tax_1 = node.find(\"營業稅\").text if node is not None else None\n",
    "            tax_2 = node.find(\"貨物稅\").text if node is not None else None\n",
    "            time = node.find(\"牌價生效時間\").text if node is not None else None\n",
    "            note= node.find(\"備註\").text if node is not None else None\n",
    "            datatframe = datatframe.append(pd.Series([typeName, idNum, prodName, package, target, local,unit,ref_money,tax_1, tax_2, time, note], index = columns), ignore_index = True)\n",
    "        return datatframe\n"
   ]
  },
  {
   "cell_type": "code",
   "execution_count": 7,
   "metadata": {},
   "outputs": [
    {
     "data": {
      "text/plain": [
       "<bound method NDFrame.keys of      型別名稱          產品編號               產品名稱  包裝           銷售對象  \\\n",
       "0   汽柴油零售  113F 1209800             98無鉛汽油  散裝        一般自用客戶    \n",
       "1   汽柴油零售  113F 1209500             95無鉛汽油  散裝        一般自用客戶    \n",
       "2   汽柴油零售  113F 1209200             92無鉛汽油  散裝         一般自用客戶   \n",
       "3   汽柴油零售  113F 1229500               酒精汽油  散裝        一般自用客戶    \n",
       "4   汽柴油零售  113F 5100100               超級柴油  散裝         一般自用客戶   \n",
       "5   汽柴油零售  113F 5100700              海運輕柴油  散裝        車隊卡合約客戶   \n",
       "6   汽柴油零售  113F 5100800              海運重柴油  散裝         一般自用客戶   \n",
       "7     燃料油  113F 6210900            特種低硫燃料油  散裝       一般自用合約客戶   \n",
       "8     燃料油  113F 6210800    甲種低硫燃料油(S:0.5%)  散裝       一般自用合約客戶   \n",
       "9     燃料油  113F 6210500      低硫燃料油(S:0.5%)  散裝       一般自用合約客戶   \n",
       "10    燃料油  113F 6210500   發電用低硫燃料油(S:0.5%)  散裝           發電用戶   \n",
       "11    燃料油  113F 6211500  低硫高流動點燃料油(S:0.5%)  散裝           發電用戶   \n",
       "12    燃料油  113F 6220100              輕裂燃料油  散裝  國喬化學公司,台苯化學公司   \n",
       "\n",
       "                  交貨地點   計價單位   參考牌價 營業稅      貨物稅    牌價生效時間      備註  \n",
       "0                中油自營站  元/ 公升   22.5  5%       內含  20200323  \\n      \n",
       "1                中油自營站  元/ 公升   20.5  5%       內含  20200323  \\n      \n",
       "2                中油自營站  元/ 公升     19  5%       內含  20200323  \\n      \n",
       "3                中油自營站  元/ 公升   20.5  5%       內含  20200323  \\n      \n",
       "4                中油自營站  元/ 公升   16.2  5%       內含  20200323  \\n      \n",
       "5              中油自營漁船站  元/ 公秉  16200  5%       內含  20200323  \\n      \n",
       "6              中油自營漁船站  元/ 公秉  15700  5%       內含  20200323  \\n      \n",
       "7   桃廠(五股庫區)/台中、橋頭供油中心   元/公秉  20600  5%  110元/公秉  20200306  \\n      \n",
       "8             中油供油服務中心  元/ 公秉  17726  5%  110元/公秉  20200306  \\n      \n",
       "9             中油供油服務中心  元/ 公秉  17428  5%  110元/公秉  20200306  \\n      \n",
       "10             台電公司發電廠  元/ 公秉  17428  5%  110元/公秉  20200306  \\n      \n",
       "11             台電公司發電廠  元/ 公秉  17378  5%  110元/公秉  20200306  \\n      \n",
       "12               林園石化廠  元/ 公秉  17728  5%  110元/公秉  20200306  \\n      >"
      ]
     },
     "execution_count": 7,
     "metadata": {},
     "output_type": "execute_result"
    }
   ],
   "source": [
    "test = GetDataSet('https://vipmember.tmtd.cpc.com.tw/opendata/ListPriceWebService.asmx/getCPCMainProdListPrice_XML')\n",
    "test.get_oil_price().keys"
   ]
  },
  {
   "cell_type": "code",
   "execution_count": null,
   "metadata": {},
   "outputs": [],
   "source": []
  }
 ],
 "metadata": {
  "kernelspec": {
   "display_name": "Python 3",
   "language": "python",
   "name": "python3"
  },
  "language_info": {
   "codemirror_mode": {
    "name": "ipython",
    "version": 3
   },
   "file_extension": ".py",
   "mimetype": "text/x-python",
   "name": "python",
   "nbconvert_exporter": "python",
   "pygments_lexer": "ipython3",
   "version": "3.6.5"
  }
 },
 "nbformat": 4,
 "nbformat_minor": 2
}
