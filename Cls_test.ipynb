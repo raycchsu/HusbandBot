{
 "cells": [
  {
   "cell_type": "code",
   "execution_count": 1,
   "metadata": {},
   "outputs": [],
   "source": [
    "import requests\n",
    "import pandas as pd\n",
    "import xml.etree.ElementTree as etree\n",
    "\n",
    "class GetDataSet:\n",
    "    url = ''\n",
    "\n",
    "    def __init__(self, url):\n",
    "        self.url = url\n",
    "\n",
    "    def get_oil_price(self):\n",
    "        root = etree.fromstring(requests.get(self.url).text)\n",
    "        columns = [\"型別名稱\", \"產品編號\", \"產品名稱\", \"包裝\", \"銷售對象\", \"交貨地點\", \"計價單位\", \"參考牌價\", \"營業稅\", \"貨物稅\", \"牌價生效時間\", \"備註\"]\n",
    "        datatframe = pd.DataFrame(columns = columns)\n",
    "\n",
    "        for node in root:\n",
    "            typeName = node.find(\"型別名稱\").text if node is not None else None\n",
    "            idNum = node.find(\"產品編號\").text if node is not None else None\n",
    "            prodName = node.find(\"產品名稱\").text if node is not None else None\n",
    "            package = node.find(\"包裝\").text if node is not None else None\n",
    "            target = node.find(\"銷售對象\").text if node is not None else None\n",
    "            local = node.find(\"交貨地點\").text if node is not None else None\n",
    "            unit = node.find(\"計價單位\").text if node is not None else None\n",
    "            ref_money = node.find(\"參考牌價\").text if node is not None else None\n",
    "            tax_1 = node.find(\"營業稅\").text if node is not None else None\n",
    "            tax_2 = node.find(\"貨物稅\").text if node is not None else None\n",
    "            time = node.find(\"牌價生效時間\").text if node is not None else None\n",
    "            note= node.find(\"備註\").text if node is not None else None\n",
    "            datatframe = datatframe.append(pd.Series([typeName, idNum, prodName, package, target, local,unit,ref_money,tax_1, tax_2, time, note], index = columns), ignore_index = True)\n",
    "        return datatframe\n"
   ]
  },
  {
   "cell_type": "code",
   "execution_count": 2,
   "metadata": {},
   "outputs": [
    {
     "data": {
      "text/plain": [
       "'     產品名稱   計價單位  參考牌價\\n0  98無鉛汽油  元/ 公升  21.7\\n1  95無鉛汽油  元/ 公升  19.7\\n2  92無鉛汽油  元/ 公升  18.2'"
      ]
     },
     "execution_count": 2,
     "metadata": {},
     "output_type": "execute_result"
    }
   ],
   "source": [
    "test = GetDataSet('https://vipmember.tmtd.cpc.com.tw/opendata/ListPriceWebService.asmx/getCPCMainProdListPrice_XML')\n",
    "oilDataFrame = test.get_oil_price()\n",
    "oilDataFrame[['產品名稱', '計價單位', '參考牌價']][:3].to_string()\n"
   ]
  },
  {
   "cell_type": "code",
   "execution_count": null,
   "metadata": {},
   "outputs": [],
   "source": []
  },
  {
   "cell_type": "code",
   "execution_count": null,
   "metadata": {},
   "outputs": [],
   "source": []
  }
 ],
 "metadata": {
  "kernelspec": {
   "display_name": "Python 3",
   "language": "python",
   "name": "python3"
  },
  "language_info": {
   "codemirror_mode": {
    "name": "ipython",
    "version": 3
   },
   "file_extension": ".py",
   "mimetype": "text/x-python",
   "name": "python",
   "nbconvert_exporter": "python",
   "pygments_lexer": "ipython3",
   "version": "3.6.5"
  }
 },
 "nbformat": 4,
 "nbformat_minor": 2
}
