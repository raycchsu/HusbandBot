{
 "cells": [
  {
   "cell_type": "code",
   "execution_count": 18,
   "metadata": {},
   "outputs": [],
   "source": [
    "import traceback\n",
    "import requests\n",
    "import pandas as pd\n",
    "import xml.etree.ElementTree as etree\n",
    "\n",
    "class GetDataSet:\n",
    "    url = ''\n",
    "\n",
    "    def __init__(self, url):\n",
    "        self.url = url\n",
    "\n",
    "    def get_oil_price(self):\n",
    "        try:\n",
    "            headers = {'user-agent': 'my-app/0.0.1'}\n",
    "            root = etree.fromstring(requests.get(self.url, headers=headers).text)\n",
    "            columns = [\"型別名稱\", \"產品編號\", \"產品名稱\", \"包裝\", \"銷售對象\", \"交貨地點\", \"計價單位\", \"參考牌價\", \"營業稅\", \"貨物稅\", \"牌價生效時間\", \"備註\"]\n",
    "            datatframe = pd.DataFrame(columns = columns)\n",
    "            content = ''\n",
    "\n",
    "            for node in root:\n",
    "                typeName = node.find(\"型別名稱\").text if node is not None else None\n",
    "                idNum = node.find(\"產品編號\").text if node is not None else None\n",
    "                prodName = node.find(\"產品名稱\").text if node is not None else None\n",
    "                package = node.find(\"包裝\").text if node is not None else None\n",
    "                target = node.find(\"銷售對象\").text if node is not None else None\n",
    "                local = node.find(\"交貨地點\").text if node is not None else None\n",
    "                unit = node.find(\"計價單位\").text if node is not None else None\n",
    "                ref_money = node.find(\"參考牌價\").text if node is not None else None\n",
    "                tax_1 = node.find(\"營業稅\").text if node is not None else None\n",
    "                tax_2 = node.find(\"貨物稅\").text if node is not None else None\n",
    "                time = node.find(\"牌價生效時間\").text if node is not None else None\n",
    "                note= node.find(\"備註\").text if node is not None else None\n",
    "                datatframe = datatframe.append(pd.Series([typeName, idNum, prodName, package, target, local,unit,ref_money,tax_1, tax_2, time, note], index = columns), ignore_index = True)\n",
    "                \n",
    "                #for Line output string\n",
    "                content = content + prodName + ':' + unit + ':' + ref_money +' １%0D%0A'\n",
    "            \n",
    "            return content\n",
    "            #return datatframe\n",
    "\n",
    "        except (ValueError, EOFError, KeyboardInterrupt):\n",
    "            errorMsg = '數值錯誤!請稍晚再試'\n",
    "            return errorMsg\n",
    "\n",
    "        except:\n",
    "            errorMsg = '資料擷取錯誤，請稍晚再試!'\n",
    "            return errorMsg\n",
    "            #traceback.print_exc()\n",
    "    "
   ]
  },
  {
   "cell_type": "code",
   "execution_count": 19,
   "metadata": {},
   "outputs": [
    {
     "name": "stdout",
     "output_type": "stream",
     "text": [
      "98無鉛汽油:元/ 公升:20.8 １%0D%0A95無鉛汽油:元/ 公升:18.8 １%0D%0A92無鉛汽油:元/ 公升:17.3 １%0D%0A酒精汽油:元/ 公升:18.8 １%0D%0A超級柴油:元/ 公升:14.4 １%0D%0A海運輕柴油:元/ 公秉:14400 １%0D%0A海運重柴油:元/ 公秉:13900 １%0D%0A特種低硫燃料油:元/公秉:18620 １%0D%0A甲種低硫燃料油(S:0.5%):元/ 公秉:18118 １%0D%0A低硫燃料油(S:0.5%):元/ 公秉:18118 １%0D%0A發電用低硫燃料油(S:0.5%):元/ 公秉:18118 １%0D%0A低硫高流動點燃料油(S:0.5%):元/ 公秉:18068 １%0D%0A輕裂燃料油:元/ 公秉:18418 １%0D%0A\n"
     ]
    }
   ],
   "source": [
    "test = GetDataSet('https://vipmember.tmtd.cpc.com.tw/opendata/ListPriceWebService.asmx/getCPCMainProdListPrice_XML')\n",
    "content = test.get_oil_price()\n",
    "print(content)"
   ]
  },
  {
   "cell_type": "code",
   "execution_count": null,
   "metadata": {},
   "outputs": [],
   "source": []
  },
  {
   "cell_type": "code",
   "execution_count": null,
   "metadata": {},
   "outputs": [],
   "source": []
  }
 ],
 "metadata": {
  "kernelspec": {
   "display_name": "Python 3",
   "language": "python",
   "name": "python3"
  },
  "language_info": {
   "codemirror_mode": {
    "name": "ipython",
    "version": 3
   },
   "file_extension": ".py",
   "mimetype": "text/x-python",
   "name": "python",
   "nbconvert_exporter": "python",
   "pygments_lexer": "ipython3",
   "version": "3.6.5"
  }
 },
 "nbformat": 4,
 "nbformat_minor": 2
}
